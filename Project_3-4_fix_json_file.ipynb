{
 "cells": [
  {
   "cell_type": "markdown",
   "id": "aa032c35",
   "metadata": {},
   "source": [
    "\n",
    "# Fixing the BART Track Lines GeoJSON file\n",
    "## We want the BART track Lines, but we need to fix JSON file first to use its geometry"
   ]
  },
  {
   "cell_type": "markdown",
   "id": "53ea99b6",
   "metadata": {},
   "source": [
    "## Imports"
   ]
  },
  {
   "cell_type": "code",
   "execution_count": 1,
   "id": "ea08a006",
   "metadata": {},
   "outputs": [],
   "source": [
    "import math\n",
    "import numpy as np\n",
    "import pandas as pd\n",
    "import random\n",
    "\n",
    "import psycopg2\n",
    "\n",
    "import json\n",
    "\n",
    "import gmaps\n",
    "import gmaps.geojson_geometries\n",
    "\n",
    "from geographiclib.geodesic import Geodesic"
   ]
  },
  {
   "cell_type": "markdown",
   "id": "79ce699d",
   "metadata": {},
   "source": [
    "## my_select_query_pandas() - function to run a select query and return rows in a Pandas dataframe"
   ]
  },
  {
   "cell_type": "code",
   "execution_count": 12,
   "id": "1b7d33eb",
   "metadata": {},
   "outputs": [],
   "source": [
    "#\n",
    "# function to run a select query and return rows in a pandas dataframe\n",
    "# pandas puts all numeric values from postgres to float\n",
    "# if it will fit in an integer, change it to integer\n",
    "#\n",
    "\n",
    "def my_select_query_pandas(query, rollback_before_flag, rollback_after_flag):\n",
    "    \"function to run a select query and return rows in a pandas dataframe\"\n",
    "    \n",
    "    if rollback_before_flag:\n",
    "        connection.rollback()\n",
    "    \n",
    "    df = pd.read_sql_query(query, connection)\n",
    "    \n",
    "    if rollback_after_flag:\n",
    "        connection.rollback()\n",
    "    \n",
    "    # fix the float columns that really should be integers\n",
    "    \n",
    "    for column in df:\n",
    "    \n",
    "        if df[column].dtype == \"float64\":\n",
    "\n",
    "            fraction_flag = False\n",
    "\n",
    "            for value in df[column].values:\n",
    "                \n",
    "                if not np.isnan(value):\n",
    "                    if value - math.floor(value) != 0:\n",
    "                        fraction_flag = True\n",
    "\n",
    "            if not fraction_flag:\n",
    "                df[column] = df[column].astype('Int64')\n",
    "    \n",
    "    return(df)\n",
    "    "
   ]
  },
  {
   "cell_type": "markdown",
   "id": "5c1492e4",
   "metadata": {},
   "source": [
    "## Connect to the Postgres database"
   ]
  },
  {
   "cell_type": "code",
   "execution_count": 13,
   "id": "7d8410dd",
   "metadata": {},
   "outputs": [],
   "source": [
    "connection = psycopg2.connect(\n",
    "    user = \"postgres\",\n",
    "    password = \"ucb\",\n",
    "    host = \"postgres\",\n",
    "    port = \"5432\",\n",
    "    database = \"postgres\"\n",
    ")"
   ]
  },
  {
   "cell_type": "markdown",
   "id": "06b37808",
   "metadata": {},
   "source": [
    "## Create a cursor for the connection"
   ]
  },
  {
   "cell_type": "code",
   "execution_count": 4,
   "id": "914c1061",
   "metadata": {},
   "outputs": [],
   "source": [
    "cursor = connection.cursor()"
   ]
  },
  {
   "cell_type": "markdown",
   "id": "0aad4498",
   "metadata": {},
   "source": [
    "## Connect to Google Maps using your api key;  edit the file gmap_api_key.txt and put in your api key"
   ]
  },
  {
   "cell_type": "code",
   "execution_count": 5,
   "id": "c6b710cd",
   "metadata": {},
   "outputs": [],
   "source": [
    "f = open('gmap_api_key.txt', 'r')\n",
    "my_api_key = f.read()\n",
    "f.close()\n",
    "\n",
    "gmaps.configure(api_key=my_api_key)"
   ]
  },
  {
   "cell_type": "markdown",
   "id": "802060dc",
   "metadata": {},
   "source": [
    "## Basic map centered on Sather Gate at UC Berkeley; all point are (latitude, longitude) in decimal"
   ]
  },
  {
   "cell_type": "code",
   "execution_count": 6,
   "id": "1a1323b1",
   "metadata": {},
   "outputs": [],
   "source": [
    "sather_gate_berkeley = (37.870260430419115, -122.25950168579497)\n",
    "\n",
    "# gmaps.figure(center=sather_gate_berkeley, zoom_level=9)"
   ]
  },
  {
   "cell_type": "markdown",
   "id": "49b63f66",
   "metadata": {},
   "source": [
    "## Project 3 Continuation"
   ]
  },
  {
   "cell_type": "code",
   "execution_count": null,
   "id": "07b54562",
   "metadata": {},
   "outputs": [],
   "source": [
    "import json\n",
    "f = open( \"BART_Track2.geojson\" , \"rb\" ) #here we can change the file\n",
    "jsonObject = json.load(f)\n",
    "f.close()\n",
    "jsonObject"
   ]
  },
  {
   "cell_type": "markdown",
   "id": "228f9fe0",
   "metadata": {},
   "source": [
    "### This is the structure it should have after editing"
   ]
  },
  {
   "cell_type": "code",
   "execution_count": null,
   "id": "e86539c2",
   "metadata": {},
   "outputs": [],
   "source": [
    "import json\n",
    "f = open( \"BART_Track_edited5.geojson\" , \"rb\" )\n",
    "jsonObject2 = json.load(f)\n",
    "f.close()\n",
    "jsonObject2"
   ]
  },
  {
   "cell_type": "markdown",
   "id": "e53b4779",
   "metadata": {},
   "source": [
    "## Inserting the first bracket of the coordinate pair"
   ]
  },
  {
   "cell_type": "code",
   "execution_count": null,
   "id": "ec737904",
   "metadata": {},
   "outputs": [],
   "source": [
    "import re\n",
    "import string\n",
    "String = \"I am your father\"\n",
    "iter = re.finditer(\"fat\", String)\n",
    "indices = [m.start(0) for m in iter]\n",
    "\n",
    "\n",
    "json_string = json.dumps(jsonObject)\n",
    "\n",
    "iter = re.finditer(\"coordinates\", json_string)\n",
    "coordinates = [m.start(0) for m in iter] # all the places where coordinates exists \n",
    "\n",
    "iter = re.finditer(\"]}}\", json_string) \n",
    "group_end = [m.start(0) for m in iter] #all the places where type feature section ends \"]}}\"\n",
    "group_end\n",
    "\n",
    "iter = re.finditer(\"\\[-12\", json_string) \n",
    "coord_pair_start = [m.start(0) for m in iter] #all the places where type feature section ends \"]}}\"\n",
    "coord_pair_start\n",
    "\n",
    "aStr = json_string\n",
    "n = len(coord_pair_start)-1\n",
    "i = 0\n",
    "while (i <= n):\n",
    "    #print(\"i before update\", i)\n",
    "    \n",
    "    pos = coord_pair_start[i]\n",
    "    aStr = aStr[:pos] + \"[[\" + aStr[pos+1:] #does adding a line break work?\n",
    "    i += 2 \n",
    "    #print(\"i after update\", i)\n",
    "  \n",
    "    iter = re.finditer(\"\\[-12\", aStr) \n",
    "    coord_pair_start = [m.start(0) for m in iter] #all the places where type feature section ends \"]}}\"\n",
    "\n",
    "aStr\n",
    "\n"
   ]
  },
  {
   "cell_type": "markdown",
   "id": "cec72606",
   "metadata": {},
   "source": [
    "## inserting the last bracket"
   ]
  },
  {
   "cell_type": "code",
   "execution_count": null,
   "id": "bb001e3d",
   "metadata": {},
   "outputs": [],
   "source": [
    "\n",
    "\n",
    "iter = re.finditer(\"0.0\\]\", aStr) \n",
    "coord_pair_end = [m.start(0) for m in iter] #all the places where type feature section ends \"]}}\"\n",
    "n = len(coord_pair_end)-1\n",
    "i = 1\n",
    "print(\"beggining of last while loop\")\n",
    "while (i < n):\n",
    "    #print(\"i before update\", i)    \n",
    "    pos = coord_pair_end[i]\n",
    "    aStr = aStr[:pos + 3] + \"]]\" + aStr[pos+3+1:]    i += 2 \n",
    "    #print(\"i after update\", i)  \n",
    "    iter = re.finditer(\"0.0\\]\", aStr) \n",
    "    coord_pair_end = [m.start(0) for m in iter] #all the places where coordinate pair section ends \"0.0\\]\"\n",
    "aStr"
   ]
  },
  {
   "cell_type": "markdown",
   "id": "88c1d528",
   "metadata": {},
   "source": [
    "### Need remove all of the 0.0] and replace LineString with MultiLineString"
   ]
  },
  {
   "cell_type": "code",
   "execution_count": null,
   "id": "7250de0b",
   "metadata": {},
   "outputs": [],
   "source": [
    "cStr = aStr.replace(', 0.0', '')\n",
    "cStr\n",
    "dStr = cStr.replace('LineString', 'MultiLineString')\n",
    "dStr"
   ]
  },
  {
   "cell_type": "markdown",
   "id": "b3e99ac5",
   "metadata": {},
   "source": [
    "### Lets write to a file, final string is dStr"
   ]
  },
  {
   "cell_type": "code",
   "execution_count": null,
   "id": "bb51e51e",
   "metadata": {},
   "outputs": [],
   "source": [
    "f = open(\"BART_Track_edited9.geojson\", \"x\")\n",
    "f.write(dStr)\n",
    "f.close()"
   ]
  },
  {
   "cell_type": "markdown",
   "id": "1438163c",
   "metadata": {},
   "source": [
    "### Lets Load Final Json File\n",
    "### But adding color scheme for each BART Line\n",
    "#### Total 11 Lines, but color is not loading"
   ]
  },
  {
   "cell_type": "code",
   "execution_count": 32,
   "id": "0f67e93a",
   "metadata": {},
   "outputs": [
    {
     "data": {
      "application/vnd.jupyter.widget-view+json": {
       "model_id": "43adaae4c0f046ee8c93538f25ba7d8e",
       "version_major": 2,
       "version_minor": 0
      },
      "text/plain": [
       "Figure(layout=FigureLayout(height='420px'))"
      ]
     },
     "metadata": {},
     "output_type": "display_data"
    }
   ],
   "source": [
    "#BART_Track_edited10.geojson is the json file that is well constructed\n",
    "with open('BART_Track_edited10.geojson') as f:\n",
    "    geometry = json.load(f)\n",
    "colors = ['red', 'black', 'blue', 'purple', 'black', 'green', 'blue', 'purple', 'red', 'black', 'blue']\n",
    "fig = gmaps.figure()\n",
    "geojson_layer = gmaps.geojson_layer(geometry, stroke_color=colors)\n",
    "fig.add_layer(geojson_layer)\n",
    "fig"
   ]
  },
  {
   "cell_type": "markdown",
   "id": "ecc3d388",
   "metadata": {},
   "source": [
    "## Overlay of BART stations with Plain Dots"
   ]
  },
  {
   "cell_type": "code",
   "execution_count": 29,
   "id": "68e7702d",
   "metadata": {},
   "outputs": [
    {
     "data": {
      "application/vnd.jupyter.widget-view+json": {
       "model_id": "0c35f1441f664743874f0f6ce1993627",
       "version_major": 2,
       "version_minor": 0
      },
      "text/plain": [
       "Figure(layout=FigureLayout(height='420px'))"
      ]
     },
     "metadata": {},
     "output_type": "display_data"
    }
   ],
   "source": [
    "rollback_before_flag = True\n",
    "rollback_after_flag = True\n",
    "\n",
    "query = \"\"\"\n",
    "\n",
    "select * from stations\n",
    "\n",
    "\n",
    "\n",
    "\"\"\"\n",
    "stations_df = my_select_query_pandas(query, rollback_before_flag, rollback_after_flag)\n",
    "colors = []\n",
    "for i in range(0,50):\n",
    "    colors.append(np.random.choice(['red', 'green', 'blue', 'purple', 'yellow', 'teal']))\n",
    "\n",
    "#stations_df.head()\n",
    "#print(station_locations )\n",
    "\n",
    "#color green is chosen for dollars sign $$$\n",
    "\n",
    "fig = gmaps.figure(center=sather_gate_berkeley, map_type = 'HYBRID', zoom_level=9)\n",
    "\n",
    "df_markers = stations_df[['latitude','longitude']]\n",
    "\n",
    "marker_layer = gmaps.symbol_layer(df_markers, fill_color= colors, stroke_color=colors )\n",
    "\n",
    "fig.add_layer(marker_layer)\n",
    "\n",
    "fig\n"
   ]
  },
  {
   "cell_type": "code",
   "execution_count": 28,
   "id": "dd4e3b78",
   "metadata": {},
   "outputs": [
    {
     "data": {
      "text/plain": [
       "50"
      ]
     },
     "execution_count": 28,
     "metadata": {},
     "output_type": "execute_result"
    }
   ],
   "source": [
    "stations_df.head(100)\n",
    "stations_df.shape\n",
    "colors = []\n",
    "for i in range(0,50):\n",
    "    colors.append(np.random.choice(['red', 'green', 'blue', 'purple', 'yellow', 'teal']))\n",
    "    \n",
    "len(colors)"
   ]
  }
 ],
 "metadata": {
  "kernelspec": {
   "display_name": "Python 3 (ipykernel)",
   "language": "python",
   "name": "python3"
  },
  "language_info": {
   "codemirror_mode": {
    "name": "ipython",
    "version": 3
   },
   "file_extension": ".py",
   "mimetype": "text/x-python",
   "name": "python",
   "nbconvert_exporter": "python",
   "pygments_lexer": "ipython3",
   "version": "3.9.7"
  }
 },
 "nbformat": 4,
 "nbformat_minor": 5
}
